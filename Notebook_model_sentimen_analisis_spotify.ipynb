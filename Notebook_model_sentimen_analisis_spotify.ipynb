{
  "cells": [
    {
      "cell_type": "code",
      "source": [
        "# Import libraries\n",
        "import pandas as pd\n",
        "import numpy as np\n",
        "from sklearn.model_selection import train_test_split\n",
        "from sklearn.preprocessing import LabelEncoder\n",
        "from sklearn.feature_extraction.text import TfidfVectorizer\n",
        "from imblearn.over_sampling import SMOTE\n",
        "from tensorflow.keras.models import Sequential\n",
        "from tensorflow.keras.layers import Embedding, LSTM, Dropout, Dense\n",
        "from tensorflow.keras.callbacks import EarlyStopping, ReduceLROnPlateau\n",
        "from tensorflow.keras.preprocessing.text import Tokenizer\n",
        "from tensorflow.keras.preprocessing.sequence import pad_sequences\n",
        "from sklearn.svm import SVC\n",
        "from sklearn.ensemble import RandomForestClassifier\n",
        "from sklearn.metrics import classification_report, accuracy_score\n",
        "from collections import Counter\n",
        "import re\n",
        "import string"
      ],
      "metadata": {
        "id": "PCH7Tj1Ds0RO"
      },
      "execution_count": 7,
      "outputs": []
    },
    {
      "cell_type": "code",
      "source": [
        "\n",
        "df = pd.read_csv('reviews_spotify.csv')\n",
        "\n",
        "print(\"Jumlah baris dan kolom:\")\n",
        "print(df.shape)\n",
        "\n",
        "print(\"\\nInformasi kolom:\")\n",
        "print(df.info())\n",
        "\n",
        "print(\"\\n5 baris pertama dataset:\")\n",
        "print(df.head())\n",
        "\n",
        "\n"
      ],
      "metadata": {
        "colab": {
          "base_uri": "https://localhost:8080/"
        },
        "id": "VeAHQLvWs3QG",
        "outputId": "2a163f62-3f04-440f-a268-2bdcfd683343"
      },
      "execution_count": 10,
      "outputs": [
        {
          "output_type": "stream",
          "name": "stdout",
          "text": [
            "Jumlah baris dan kolom:\n",
            "(11000, 11)\n",
            "\n",
            "Informasi kolom:\n",
            "<class 'pandas.core.frame.DataFrame'>\n",
            "RangeIndex: 11000 entries, 0 to 10999\n",
            "Data columns (total 11 columns):\n",
            " #   Column                Non-Null Count  Dtype  \n",
            "---  ------                --------------  -----  \n",
            " 0   reviewId              11000 non-null  object \n",
            " 1   userName              11000 non-null  object \n",
            " 2   userImage             11000 non-null  object \n",
            " 3   content               11000 non-null  object \n",
            " 4   score                 11000 non-null  int64  \n",
            " 5   thumbsUpCount         11000 non-null  int64  \n",
            " 6   reviewCreatedVersion  7576 non-null   object \n",
            " 7   at                    11000 non-null  object \n",
            " 8   replyContent          0 non-null      float64\n",
            " 9   repliedAt             0 non-null      float64\n",
            " 10  appVersion            7576 non-null   object \n",
            "dtypes: float64(2), int64(2), object(7)\n",
            "memory usage: 945.4+ KB\n",
            "None\n",
            "\n",
            "5 baris pertama dataset:\n",
            "                               reviewId         userName  \\\n",
            "0  0ad428e1-ee55-4725-b725-7538d32076bc  Pengguna Google   \n",
            "1  85690ffe-d3cf-45a3-950f-791e262d2925  Pengguna Google   \n",
            "2  b1c478f9-4f78-4328-b51c-872bfd1b4349  Pengguna Google   \n",
            "3  8b68a605-525f-4b28-9500-b673fb38fd6d  Pengguna Google   \n",
            "4  23da100a-57bb-4b29-8158-7c8bf887207a  Pengguna Google   \n",
            "\n",
            "                                           userImage  \\\n",
            "0  https://play-lh.googleusercontent.com/EGemoI2N...   \n",
            "1  https://play-lh.googleusercontent.com/EGemoI2N...   \n",
            "2  https://play-lh.googleusercontent.com/EGemoI2N...   \n",
            "3  https://play-lh.googleusercontent.com/EGemoI2N...   \n",
            "4  https://play-lh.googleusercontent.com/EGemoI2N...   \n",
            "\n",
            "                                             content  score  thumbsUpCount  \\\n",
            "0  males banget dikit² premium iwh, masa ganti la...      1              2   \n",
            "1  Sebenarnya bagus... Tapi sekarang masa gw apa ...      1              3   \n",
            "2  Aplikasi lagu amnesia saya sudah punya akun ta...      2              0   \n",
            "3  saya sangat suka dengan aplikasi ini karna apl...      5              0   \n",
            "4                                                  😁      1              2   \n",
            "\n",
            "  reviewCreatedVersion                   at  replyContent  repliedAt  \\\n",
            "0           9.0.14.561  2025-02-02 03:36:02           NaN        NaN   \n",
            "1           9.0.14.561  2025-02-01 12:19:48           NaN        NaN   \n",
            "2           9.0.14.561  2025-01-31 16:03:54           NaN        NaN   \n",
            "3                  NaN  2025-01-30 06:57:25           NaN        NaN   \n",
            "4           9.0.12.567  2025-01-27 09:36:08           NaN        NaN   \n",
            "\n",
            "   appVersion  \n",
            "0  9.0.14.561  \n",
            "1  9.0.14.561  \n",
            "2  9.0.14.561  \n",
            "3         NaN  \n",
            "4  9.0.12.567  \n"
          ]
        }
      ]
    },
    {
      "cell_type": "code",
      "source": [
        "# Menangani data yang hilang pada kolom 'username'\n",
        "df_cleaned = df.dropna(subset=['userName'])\n",
        "print(df_cleaned.isnull().sum())"
      ],
      "metadata": {
        "colab": {
          "base_uri": "https://localhost:8080/"
        },
        "id": "QybhKG0ktH6o",
        "outputId": "c201acba-ce65-4589-ce18-c4b697b02192"
      },
      "execution_count": 12,
      "outputs": [
        {
          "output_type": "stream",
          "name": "stdout",
          "text": [
            "reviewId                    0\n",
            "userName                    0\n",
            "userImage                   0\n",
            "content                     0\n",
            "score                       0\n",
            "thumbsUpCount               0\n",
            "reviewCreatedVersion     3424\n",
            "at                          0\n",
            "replyContent            11000\n",
            "repliedAt               11000\n",
            "appVersion               3424\n",
            "dtype: int64\n"
          ]
        }
      ]
    },
    {
      "cell_type": "code",
      "source": [
        "# Fungsi untuk membersihkan teks\n",
        "def clean_text(text):\n",
        "    text = text.lower()\n",
        "    text = re.sub(r'\\d+', '', text)\n",
        "    text = text.translate(str.maketrans('', '', string.punctuation))\n",
        "    return text\n",
        "\n",
        "df['cleaned_content'] = df['content'].apply(clean_text)"
      ],
      "metadata": {
        "id": "ZbC5ASkNtNB6"
      },
      "execution_count": 14,
      "outputs": []
    },
    {
      "cell_type": "code",
      "source": [
        "def get_sentiment(text):\n",
        "    from textblob import TextBlob\n",
        "    polarity = TextBlob(text).sentiment.polarity\n",
        "    if polarity > 0:\n",
        "        return 'positif'\n",
        "    elif polarity < 0:\n",
        "        return 'negatif'\n",
        "    else:\n",
        "        return 'netral'\n",
        "\n",
        "df['label'] = df['cleaned_content'].apply(get_sentiment)"
      ],
      "metadata": {
        "id": "AcMxG1iMthYX"
      },
      "execution_count": 16,
      "outputs": []
    },
    {
      "cell_type": "code",
      "source": [
        "# Encode label\n",
        "y = LabelEncoder().fit_transform(df['label'])\n",
        "X = df['cleaned_content']\n",
        "\n",
        "# Pisahkan data menjadi train dan test\n",
        "X_train_raw, X_test_raw, y_train, y_test = train_test_split(X, y, test_size=0.2, random_state=42, stratify=y)"
      ],
      "metadata": {
        "id": "dFEoTOOVtmi_"
      },
      "execution_count": 18,
      "outputs": []
    },
    {
      "cell_type": "code",
      "source": [
        "# Preprocessing untuk model berbasis TF-IDF\n",
        "vectorizer = TfidfVectorizer()\n",
        "X_train_tfidf = vectorizer.fit_transform(X_train_raw)\n",
        "X_test_tfidf = vectorizer.transform(X_test_raw)\n",
        "\n",
        "smote = SMOTE(random_state=42)\n",
        "X_train_tfidf_smote, y_train_smote = smote.fit_resample(X_train_tfidf, y_train)\n",
        "\n",
        "print(\"Distribusi label setelah SMOTE:\", Counter(y_train_smote))"
      ],
      "metadata": {
        "colab": {
          "base_uri": "https://localhost:8080/"
        },
        "id": "amVywaeUtsLI",
        "outputId": "14deb01b-fe18-4e3b-a0df-99102417a4f0"
      },
      "execution_count": 19,
      "outputs": [
        {
          "output_type": "stream",
          "name": "stdout",
          "text": [
            "Distribusi label setelah SMOTE: Counter({1: 7702, 2: 7702, 0: 7702})\n"
          ]
        }
      ]
    },
    {
      "cell_type": "code",
      "source": [
        "# 1. Model SVM\n",
        "svm = SVC(kernel='linear', random_state=42)\n",
        "svm.fit(X_train_tfidf_smote, y_train_smote)\n",
        "y_pred_svm = svm.predict(X_test_tfidf)\n",
        "accuracy_svm = accuracy_score(y_test, y_pred_svm)\n",
        "print(\"\\nEvaluasi Model SVM:\")\n",
        "print(f\"Accuracy: {accuracy_svm}\")\n",
        "print(classification_report(y_test, y_pred_svm, target_names=['negatif', 'netral', 'positif']))"
      ],
      "metadata": {
        "colab": {
          "base_uri": "https://localhost:8080/"
        },
        "id": "fiAI0aBctvKC",
        "outputId": "3f768720-24d3-4f48-9472-b9dfc4ab9218"
      },
      "execution_count": 20,
      "outputs": [
        {
          "output_type": "stream",
          "name": "stdout",
          "text": [
            "\n",
            "Evaluasi Model SVM:\n",
            "Accuracy: 0.9804545454545455\n",
            "              precision    recall  f1-score   support\n",
            "\n",
            "     negatif       0.78      0.66      0.71        32\n",
            "      netral       0.98      1.00      0.99      1926\n",
            "     positif       0.98      0.88      0.93       242\n",
            "\n",
            "    accuracy                           0.98      2200\n",
            "   macro avg       0.91      0.84      0.88      2200\n",
            "weighted avg       0.98      0.98      0.98      2200\n",
            "\n"
          ]
        }
      ]
    },
    {
      "cell_type": "code",
      "source": [
        "# 2. Model Random Forest\n",
        "rf = RandomForestClassifier(random_state=42)\n",
        "rf.fit(X_train_tfidf_smote, y_train_smote)\n",
        "y_pred_rf = rf.predict(X_test_tfidf)\n",
        "accuracy_rf = accuracy_score(y_test, y_pred_rf)\n",
        "print(\"\\nEvaluasi Model Random Forest:\")\n",
        "print(f\"Accuracy: {accuracy_rf}\")\n",
        "print(classification_report(y_test, y_pred_rf, target_names=['negatif', 'netral', 'positif']))"
      ],
      "metadata": {
        "colab": {
          "base_uri": "https://localhost:8080/"
        },
        "id": "TyltAJM9tyHi",
        "outputId": "173894b1-9264-42dd-ea68-b65f45615da1"
      },
      "execution_count": 21,
      "outputs": [
        {
          "output_type": "stream",
          "name": "stdout",
          "text": [
            "\n",
            "Evaluasi Model Random Forest:\n",
            "Accuracy: 0.9572727272727273\n",
            "              precision    recall  f1-score   support\n",
            "\n",
            "     negatif       0.75      0.28      0.41        32\n",
            "      netral       0.96      1.00      0.98      1926\n",
            "     positif       0.95      0.73      0.82       242\n",
            "\n",
            "    accuracy                           0.96      2200\n",
            "   macro avg       0.89      0.67      0.74      2200\n",
            "weighted avg       0.96      0.96      0.95      2200\n",
            "\n"
          ]
        }
      ]
    },
    {
      "cell_type": "code",
      "source": [
        "\n",
        "# Preprocessing untuk model LSTM\n",
        "max_words = 10000\n",
        "max_len = 100\n",
        "tokenizer = Tokenizer(num_words=max_words)\n",
        "tokenizer.fit_on_texts(X_train_raw)\n",
        "\n",
        "X_train_seq = tokenizer.texts_to_sequences(X_train_raw)\n",
        "X_test_seq = tokenizer.texts_to_sequences(X_test_raw)\n",
        "\n",
        "X_train_pad = pad_sequences(X_train_seq, maxlen=max_len)\n",
        "X_test_pad = pad_sequences(X_test_seq, maxlen=max_len)\n",
        "\n",
        "# Konversi label ke one-hot encoding\n",
        "y_train_cat = pd.get_dummies(y_train).values\n",
        "y_test_cat = pd.get_dummies(y_test).values"
      ],
      "metadata": {
        "id": "0CiHEjeft1So"
      },
      "execution_count": 22,
      "outputs": []
    },
    {
      "cell_type": "code",
      "source": [
        "# 3. Model LSTM\n",
        "model_lstm = Sequential([\n",
        "    Embedding(input_dim=max_words, output_dim=100, input_length=max_len),\n",
        "    LSTM(128, return_sequences=True, kernel_regularizer='l2'),\n",
        "    Dropout(0.5),\n",
        "    LSTM(64, kernel_regularizer='l2'),\n",
        "    Dropout(0.5),\n",
        "    Dense(3, activation='softmax')\n",
        "])\n",
        "\n",
        "model_lstm.compile(loss='categorical_crossentropy', optimizer='adam', metrics=['accuracy'])\n",
        "\n",
        "callbacks = [\n",
        "    EarlyStopping(monitor='val_loss', patience=3, restore_best_weights=True),\n",
        "    ReduceLROnPlateau(monitor='val_loss', factor=0.2, patience=2)\n",
        "]\n",
        "\n",
        "history = model_lstm.fit(\n",
        "    X_train_pad, y_train_cat,\n",
        "    epochs=15,\n",
        "    batch_size=64,\n",
        "    validation_data=(X_test_pad, y_test_cat),\n",
        "    callbacks=callbacks\n",
        ")\n",
        "\n",
        "oss, accuracy_lstm = model_lstm.evaluate(X_test_pad, y_test_cat)\n",
        "print(\"\\nEvaluasi Model LSTM:\")\n",
        "print(f\"Accuracy: {accuracy_lstm}\")\n",
        ""
      ],
      "metadata": {
        "colab": {
          "base_uri": "https://localhost:8080/"
        },
        "id": "ENcKEiGHt7wb",
        "outputId": "213379ac-4dfc-46f1-fad8-2eecbb7a37f3"
      },
      "execution_count": 23,
      "outputs": [
        {
          "output_type": "stream",
          "name": "stderr",
          "text": [
            "/usr/local/lib/python3.11/dist-packages/keras/src/layers/core/embedding.py:90: UserWarning: Argument `input_length` is deprecated. Just remove it.\n",
            "  warnings.warn(\n"
          ]
        },
        {
          "output_type": "stream",
          "name": "stdout",
          "text": [
            "Epoch 1/15\n",
            "\u001b[1m138/138\u001b[0m \u001b[32m━━━━━━━━━━━━━━━━━━━━\u001b[0m\u001b[37m\u001b[0m \u001b[1m10s\u001b[0m 18ms/step - accuracy: 0.8419 - loss: 2.2784 - val_accuracy: 0.8755 - val_loss: 0.5261 - learning_rate: 0.0010\n",
            "Epoch 2/15\n",
            "\u001b[1m138/138\u001b[0m \u001b[32m━━━━━━━━━━━━━━━━━━━━\u001b[0m\u001b[37m\u001b[0m \u001b[1m2s\u001b[0m 15ms/step - accuracy: 0.8776 - loss: 0.4916 - val_accuracy: 0.8755 - val_loss: 0.4365 - learning_rate: 0.0010\n",
            "Epoch 3/15\n",
            "\u001b[1m138/138\u001b[0m \u001b[32m━━━━━━━━━━━━━━━━━━━━\u001b[0m\u001b[37m\u001b[0m \u001b[1m3s\u001b[0m 18ms/step - accuracy: 0.8730 - loss: 0.4498 - val_accuracy: 0.8755 - val_loss: 0.4254 - learning_rate: 0.0010\n",
            "Epoch 4/15\n",
            "\u001b[1m138/138\u001b[0m \u001b[32m━━━━━━━━━━━━━━━━━━━━\u001b[0m\u001b[37m\u001b[0m \u001b[1m2s\u001b[0m 15ms/step - accuracy: 0.8744 - loss: 0.4419 - val_accuracy: 0.8755 - val_loss: 0.4323 - learning_rate: 0.0010\n",
            "Epoch 5/15\n",
            "\u001b[1m138/138\u001b[0m \u001b[32m━━━━━━━━━━━━━━━━━━━━\u001b[0m\u001b[37m\u001b[0m \u001b[1m2s\u001b[0m 14ms/step - accuracy: 0.8780 - loss: 0.4283 - val_accuracy: 0.8755 - val_loss: 0.4212 - learning_rate: 0.0010\n",
            "Epoch 6/15\n",
            "\u001b[1m138/138\u001b[0m \u001b[32m━━━━━━━━━━━━━━━━━━━━\u001b[0m\u001b[37m\u001b[0m \u001b[1m2s\u001b[0m 14ms/step - accuracy: 0.8843 - loss: 0.4043 - val_accuracy: 0.8755 - val_loss: 0.4216 - learning_rate: 0.0010\n",
            "Epoch 7/15\n",
            "\u001b[1m138/138\u001b[0m \u001b[32m━━━━━━━━━━━━━━━━━━━━\u001b[0m\u001b[37m\u001b[0m \u001b[1m2s\u001b[0m 14ms/step - accuracy: 0.8778 - loss: 0.4254 - val_accuracy: 0.8755 - val_loss: 0.4216 - learning_rate: 0.0010\n",
            "Epoch 8/15\n",
            "\u001b[1m138/138\u001b[0m \u001b[32m━━━━━━━━━━━━━━━━━━━━\u001b[0m\u001b[37m\u001b[0m \u001b[1m2s\u001b[0m 15ms/step - accuracy: 0.8769 - loss: 0.4278 - val_accuracy: 0.8755 - val_loss: 0.4209 - learning_rate: 2.0000e-04\n",
            "Epoch 9/15\n",
            "\u001b[1m138/138\u001b[0m \u001b[32m━━━━━━━━━━━━━━━━━━━━\u001b[0m\u001b[37m\u001b[0m \u001b[1m3s\u001b[0m 19ms/step - accuracy: 0.8754 - loss: 0.4257 - val_accuracy: 0.8755 - val_loss: 0.4208 - learning_rate: 2.0000e-04\n",
            "Epoch 10/15\n",
            "\u001b[1m138/138\u001b[0m \u001b[32m━━━━━━━━━━━━━━━━━━━━\u001b[0m\u001b[37m\u001b[0m \u001b[1m2s\u001b[0m 14ms/step - accuracy: 0.8748 - loss: 0.4311 - val_accuracy: 0.8755 - val_loss: 0.4208 - learning_rate: 2.0000e-04\n",
            "Epoch 11/15\n",
            "\u001b[1m138/138\u001b[0m \u001b[32m━━━━━━━━━━━━━━━━━━━━\u001b[0m\u001b[37m\u001b[0m \u001b[1m3s\u001b[0m 14ms/step - accuracy: 0.8694 - loss: 0.4445 - val_accuracy: 0.8755 - val_loss: 0.4212 - learning_rate: 2.0000e-04\n",
            "Epoch 12/15\n",
            "\u001b[1m138/138\u001b[0m \u001b[32m━━━━━━━━━━━━━━━━━━━━\u001b[0m\u001b[37m\u001b[0m \u001b[1m3s\u001b[0m 14ms/step - accuracy: 0.8740 - loss: 0.4313 - val_accuracy: 0.8755 - val_loss: 0.4209 - learning_rate: 4.0000e-05\n",
            "Epoch 13/15\n",
            "\u001b[1m138/138\u001b[0m \u001b[32m━━━━━━━━━━━━━━━━━━━━\u001b[0m\u001b[37m\u001b[0m \u001b[1m3s\u001b[0m 14ms/step - accuracy: 0.8675 - loss: 0.4435 - val_accuracy: 0.8755 - val_loss: 0.4209 - learning_rate: 4.0000e-05\n",
            "\u001b[1m69/69\u001b[0m \u001b[32m━━━━━━━━━━━━━━━━━━━━\u001b[0m\u001b[37m\u001b[0m \u001b[1m1s\u001b[0m 8ms/step - accuracy: 0.8668 - loss: 0.4441\n",
            "\n",
            "Evaluasi Model LSTM:\n",
            "Accuracy: 0.8754545450210571\n"
          ]
        }
      ]
    },
    {
      "cell_type": "code",
      "source": [
        "!pip freeze > requirements.txt\n",
        "from google.colab import files\n",
        "files.download('requirements.txt')"
      ],
      "metadata": {
        "colab": {
          "base_uri": "https://localhost:8080/",
          "height": 17
        },
        "id": "0xW5ULUNuQjj",
        "outputId": "92fca9df-1d71-4667-9862-38c715006c25"
      },
      "execution_count": 24,
      "outputs": [
        {
          "output_type": "display_data",
          "data": {
            "text/plain": [
              "<IPython.core.display.Javascript object>"
            ],
            "application/javascript": [
              "\n",
              "    async function download(id, filename, size) {\n",
              "      if (!google.colab.kernel.accessAllowed) {\n",
              "        return;\n",
              "      }\n",
              "      const div = document.createElement('div');\n",
              "      const label = document.createElement('label');\n",
              "      label.textContent = `Downloading \"${filename}\": `;\n",
              "      div.appendChild(label);\n",
              "      const progress = document.createElement('progress');\n",
              "      progress.max = size;\n",
              "      div.appendChild(progress);\n",
              "      document.body.appendChild(div);\n",
              "\n",
              "      const buffers = [];\n",
              "      let downloaded = 0;\n",
              "\n",
              "      const channel = await google.colab.kernel.comms.open(id);\n",
              "      // Send a message to notify the kernel that we're ready.\n",
              "      channel.send({})\n",
              "\n",
              "      for await (const message of channel.messages) {\n",
              "        // Send a message to notify the kernel that we're ready.\n",
              "        channel.send({})\n",
              "        if (message.buffers) {\n",
              "          for (const buffer of message.buffers) {\n",
              "            buffers.push(buffer);\n",
              "            downloaded += buffer.byteLength;\n",
              "            progress.value = downloaded;\n",
              "          }\n",
              "        }\n",
              "      }\n",
              "      const blob = new Blob(buffers, {type: 'application/binary'});\n",
              "      const a = document.createElement('a');\n",
              "      a.href = window.URL.createObjectURL(blob);\n",
              "      a.download = filename;\n",
              "      div.appendChild(a);\n",
              "      a.click();\n",
              "      div.remove();\n",
              "    }\n",
              "  "
            ]
          },
          "metadata": {}
        },
        {
          "output_type": "display_data",
          "data": {
            "text/plain": [
              "<IPython.core.display.Javascript object>"
            ],
            "application/javascript": [
              "download(\"download_9d96f5df-761b-466e-b56c-c9885cd297c0\", \"requirements.txt\", 11500)"
            ]
          },
          "metadata": {}
        }
      ]
    }
  ],
  "metadata": {
    "accelerator": "GPU",
    "colab": {
      "gpuType": "T4",
      "provenance": []
    },
    "kernelspec": {
      "display_name": "Python 3",
      "name": "python3"
    },
    "language_info": {
      "name": "python"
    }
  },
  "nbformat": 4,
  "nbformat_minor": 0
}